{
 "cells": [
  {
   "cell_type": "code",
   "execution_count": 7,
   "outputs": [
    {
     "name": "stdout",
     "output_type": "stream",
     "text": [
      "./\n"
     ]
    }
   ],
   "source": [
    "import yaml\n",
    "with open(\"./config.yaml\", 'r') as stream:\n",
    "             config = yaml.safe_load(stream)\n",
    "             print(config[\"url\"])"
   ],
   "metadata": {
    "collapsed": false,
    "ExecuteTime": {
     "end_time": "2023-09-26T11:58:09.738485900Z",
     "start_time": "2023-09-26T11:58:09.735977300Z"
    }
   },
   "id": "4e2ae0dff892fa08"
  },
  {
   "cell_type": "code",
   "execution_count": null,
   "outputs": [],
   "source": [
    "config[\"url\"] = \"http://new-url.com\"\n",
    "\n",
    "# 保存修改后的配置回文件\n",
    "with open(\"./config.yaml\", 'w') as stream:\n",
    "    yaml.dump(config, stream)"
   ],
   "metadata": {
    "collapsed": false
   },
   "id": "b1a41e7454ab2bc"
  }
 ],
 "metadata": {
  "kernelspec": {
   "display_name": "Python 3",
   "language": "python",
   "name": "python3"
  },
  "language_info": {
   "codemirror_mode": {
    "name": "ipython",
    "version": 2
   },
   "file_extension": ".py",
   "mimetype": "text/x-python",
   "name": "python",
   "nbconvert_exporter": "python",
   "pygments_lexer": "ipython2",
   "version": "2.7.6"
  }
 },
 "nbformat": 4,
 "nbformat_minor": 5
}
